{
 "cells": [
  {
   "cell_type": "code",
   "execution_count": 1,
   "metadata": {},
   "outputs": [],
   "source": [
    "import numpy as np\n",
    "from sklearn import datasets\n",
    "from sklearn.svm import SVR\n",
    "from sklearn.metrics import mean_squared_error,explained_variance_score\n",
    "from sklearn.utils import shuffle"
   ]
  },
  {
   "cell_type": "code",
   "execution_count": 28,
   "metadata": {},
   "outputs": [
    {
     "data": {
      "text/plain": [
       "(404, 13)"
      ]
     },
     "execution_count": 28,
     "metadata": {},
     "output_type": "execute_result"
    }
   ],
   "source": [
    "#주택 데이터 가져오기\n",
    "data = datasets.load_boston()\n",
    "\n",
    "#데이터 섞기\n",
    "x, y = shuffle(data.data, data.target, random_state = 7)\n",
    "\n",
    "#데이터를 학습용과 테스트용으로 나누기\n",
    "num_training = int(0.8 * len(x))\n",
    "x_train, y_train = x[:num_training], y[:num_training]\n",
    "x_test, y_test = x[num_training:], y[num_training:]\n"
   ]
  },
  {
   "cell_type": "code",
   "execution_count": 19,
   "metadata": {},
   "outputs": [
    {
     "data": {
      "text/plain": [
       "SVR(C=1.0, cache_size=200, coef0=0.0, degree=3, epsilon=0.1, gamma='scale',\n",
       "    kernel='linear', max_iter=-1, shrinking=True, tol=0.001, verbose=False)"
      ]
     },
     "execution_count": 19,
     "metadata": {},
     "output_type": "execute_result"
    }
   ],
   "source": [
    "#서포트 벡터 회귀 모델 생성\n",
    "sv_regressor = SVR(kernel = 'linear', C=1.0, epsilon = 0.1)\n",
    "\n",
    "#서포트 벡터 회귀 모델 학습시키기\n",
    "sv_regressor.fit(x_train,y_train)"
   ]
  },
  {
   "cell_type": "code",
   "execution_count": 20,
   "metadata": {},
   "outputs": [
    {
     "name": "stdout",
     "output_type": "stream",
     "text": [
      "\n",
      "#### Performance ####\n",
      "Mean Squared Error = 15.38\n",
      "Explained Variance Score = 0.82\n"
     ]
    }
   ],
   "source": [
    "#서포트 벡터 회귀 분석 모델 성능 측정\n",
    "y_test_pred = sv_regressor.predict(x_test)\n",
    "mse = mean_squared_error(y_test,y_test_pred)\n",
    "evs = explained_variance_score(y_test,y_test_pred)\n",
    "print(\"\\n#### Performance ####\")\n",
    "print(\"Mean Squared Error =\", round(mse,2))\n",
    "print(\"Explained Variance Score =\", round(evs,2))"
   ]
  },
  {
   "cell_type": "code",
   "execution_count": 24,
   "metadata": {},
   "outputs": [
    {
     "name": "stdout",
     "output_type": "stream",
     "text": [
      "\n",
      " Predicted price: 18.521780107258536\n"
     ]
    }
   ],
   "source": [
    "#테스트용 데이터포인트로 분석 모델 검증하기\n",
    "test_data = [ 3.7, 0, 18.4, 1, 0.87, 5.95, 91, 2.5052, 26, 666, 20.2, 351.34, 15.27]\n",
    "print(\"\\n Predicted price:\", sv_regressor.predict([test_data])[0])"
   ]
  },
  {
   "cell_type": "code",
   "execution_count": null,
   "metadata": {},
   "outputs": [],
   "source": []
  }
 ],
 "metadata": {
  "kernelspec": {
   "display_name": "Python 3",
   "language": "python",
   "name": "python3"
  },
  "language_info": {
   "codemirror_mode": {
    "name": "ipython",
    "version": 3
   },
   "file_extension": ".py",
   "mimetype": "text/x-python",
   "name": "python",
   "nbconvert_exporter": "python",
   "pygments_lexer": "ipython3",
   "version": "3.7.6"
  }
 },
 "nbformat": 4,
 "nbformat_minor": 4
}
