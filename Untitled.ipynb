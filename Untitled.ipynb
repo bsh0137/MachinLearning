{
 "cells": [
  {
   "cell_type": "code",
   "execution_count": 2,
   "metadata": {},
   "outputs": [
    {
     "name": "stderr",
     "output_type": "stream",
     "text": [
      "Using TensorFlow backend.\n"
     ]
    }
   ],
   "source": [
    "import warnings\n",
    "warnings.simplefilter(action='ignore', category=FutureWarning)\n",
    "import sys\n",
    "import tensorflow as tf\n",
    "import keras\n",
    "import numpy as np\n",
    "import pandas as pd\n",
    "from keras.models import Sequential\n",
    "from keras.layers import Dense\n",
    "from keras.optimizers import SGD,Adam"
   ]
  },
  {
   "cell_type": "code",
   "execution_count": 6,
   "metadata": {},
   "outputs": [
    {
     "name": "stdout",
     "output_type": "stream",
     "text": [
      "python v: 3.7.6 (default, Jan  8 2020, 20:23:39) [MSC v.1916 64 bit (AMD64)]\n",
      "tensorflow v: 2.0.0\n",
      "Keras v: 2.3.1\n"
     ]
    }
   ],
   "source": [
    "import matplotlib.pyplot as plt\n",
    "import seaborn as sns\n",
    "%matplotlib inline\n",
    "tf.random.set_seed(777)\n",
    "\n",
    "print(\"python v:\", sys.version)\n",
    "print(\"tensorflow v:\", tf.__version__)\n",
    "print('Keras v:',keras.__version__)\n"
   ]
  },
  {
   "cell_type": "code",
   "execution_count": 7,
   "metadata": {},
   "outputs": [],
   "source": [
    "data = pd.read_csv(\"C:/Users/customer/Desktop/Dacon/train.csv\")"
   ]
  },
  {
   "cell_type": "code",
   "execution_count": 9,
   "metadata": {},
   "outputs": [
    {
     "name": "stdout",
     "output_type": "stream",
     "text": [
      "<class 'pandas.core.frame.DataFrame'>\n",
      "RangeIndex: 199991 entries, 0 to 199990\n",
      "Data columns (total 23 columns):\n",
      " #   Column      Non-Null Count   Dtype  \n",
      "---  ------      --------------   -----  \n",
      " 0   id          199991 non-null  int64  \n",
      " 1   type        199991 non-null  object \n",
      " 2   fiberID     199991 non-null  int64  \n",
      " 3   psfMag_u    199991 non-null  float64\n",
      " 4   psfMag_g    199991 non-null  float64\n",
      " 5   psfMag_r    199991 non-null  float64\n",
      " 6   psfMag_i    199991 non-null  float64\n",
      " 7   psfMag_z    199991 non-null  float64\n",
      " 8   fiberMag_u  199991 non-null  float64\n",
      " 9   fiberMag_g  199991 non-null  float64\n",
      " 10  fiberMag_r  199991 non-null  float64\n",
      " 11  fiberMag_i  199991 non-null  float64\n",
      " 12  fiberMag_z  199991 non-null  float64\n",
      " 13  petroMag_u  199991 non-null  float64\n",
      " 14  petroMag_g  199991 non-null  float64\n",
      " 15  petroMag_r  199991 non-null  float64\n",
      " 16  petroMag_i  199991 non-null  float64\n",
      " 17  petroMag_z  199991 non-null  float64\n",
      " 18  modelMag_u  199991 non-null  float64\n",
      " 19  modelMag_g  199991 non-null  float64\n",
      " 20  modelMag_r  199991 non-null  float64\n",
      " 21  modelMag_i  199991 non-null  float64\n",
      " 22  modelMag_z  199991 non-null  float64\n",
      "dtypes: float64(20), int64(2), object(1)\n",
      "memory usage: 35.1+ MB\n"
     ]
    }
   ],
   "source": [
    "data.info()"
   ]
  },
  {
   "cell_type": "code",
   "execution_count": null,
   "metadata": {},
   "outputs": [],
   "source": []
  }
 ],
 "metadata": {
  "kernelspec": {
   "display_name": "Python 3",
   "language": "python",
   "name": "python3"
  },
  "language_info": {
   "codemirror_mode": {
    "name": "ipython",
    "version": 3
   },
   "file_extension": ".py",
   "mimetype": "text/x-python",
   "name": "python",
   "nbconvert_exporter": "python",
   "pygments_lexer": "ipython3",
   "version": "3.7.6"
  }
 },
 "nbformat": 4,
 "nbformat_minor": 4
}
